{
  "nbformat": 4,
  "nbformat_minor": 0,
  "metadata": {
    "colab": {
      "provenance": [],
      "authorship_tag": "ABX9TyMqmpepwZZMN8OJ+kmfVZxx",
      "include_colab_link": true
    },
    "kernelspec": {
      "name": "python3",
      "display_name": "Python 3"
    },
    "language_info": {
      "name": "python"
    }
  },
  "cells": [
    {
      "cell_type": "markdown",
      "metadata": {
        "id": "view-in-github",
        "colab_type": "text"
      },
      "source": [
        "<a href=\"https://colab.research.google.com/github/dvirchakim/weather-station-/blob/main/weather_station1.ipynb\" target=\"_parent\"><img src=\"https://colab.research.google.com/assets/colab-badge.svg\" alt=\"Open In Colab\"/></a>"
      ]
    },
    {
      "cell_type": "markdown",
      "source": [
        "# **LoRa-WAN weather station**\n",
        "# by Madar Ariel & Dvir Chakim \n",
        "\n"
      ],
      "metadata": {
        "id": "Ot6BUydAyKG7"
      }
    },
    {
      "cell_type": "markdown",
      "source": [
        "\n",
        "This code propose a way of transmitting data over lorawan to long ranges by using low power consumption . \n",
        "\n",
        "\n"
      ],
      "metadata": {
        "id": "ulM92Vi9wRYU"
      }
    },
    {
      "cell_type": "markdown",
      "source": [
        "include libraries"
      ],
      "metadata": {
        "id": "mm89pxA8xyCN"
      }
    },
    {
      "cell_type": "code",
      "source": [
        "#include <lmic.h>\n",
        "#include <hal/hal.h>\n",
        "#include <SPI.h>\n",
        "#include <OneWire.h>\n",
        "#include <DallasTemperature.h>\n",
        "#include <Adafruit_BMP280.h>"
      ],
      "metadata": {
        "id": "f8-UIEIxwTly"
      },
      "execution_count": 3,
      "outputs": []
    },
    {
      "cell_type": "markdown",
      "source": [
        "define otaa join keys deveui ,appey, *appeui-optional"
      ],
      "metadata": {
        "id": "mFXvXcbFx5iI"
      }
    },
    {
      "cell_type": "code",
      "source": [
        "static const u1_t PROGMEM APPEUI[8] = { 0x00, 0x00, 0x00, 0x02, 0x00, 0x00, 0x00, 0x00 };\n",
        "void os_getArtEui(u1_t* buf) {\n",
        "  memcpy_P(buf, APPEUI, 8);\n",
        "}\n",
        "static const u1_t PROGMEM DEVEUI[8] = { 0x00, 0x00, 0x00, 0x00, 0x00, 0x00, 0x00, 0x00 };\n",
        "void os_getDevEui(u1_t* buf) {\n",
        "  memcpy_P(buf, DEVEUI, 8);\n",
        "}\n",
        "static const u1_t PROGMEM APPKEY[16] = { 0x00, 0x00, 0x00, 0x04, 0x00, 0x00, 0x00, 0x00, 0x00, 0x00, 0x00, 0x00, 0x00, 0x00, 0x00, 0x00 };\n",
        "void os_getDevKey(u1_t* buf) {\n",
        "  memcpy_P(buf, APPKEY, 16);\n",
        "}\n"
      ],
      "metadata": {
        "id": "tnq1MN0px8qM"
      },
      "execution_count": null,
      "outputs": []
    },
    {
      "cell_type": "markdown",
      "source": [
        "define preamle max length"
      ],
      "metadata": {
        "id": "yC0soVS3ytvk"
      }
    },
    {
      "cell_type": "code",
      "source": [
        "static char data[256];  // Allocate buffer for data string\n"
      ],
      "metadata": {
        "id": "KSbbGPE3ytbO"
      },
      "execution_count": null,
      "outputs": []
    },
    {
      "cell_type": "markdown",
      "source": [
        "variable definig"
      ],
      "metadata": {
        "id": "SIuDVSwly0Ds"
      }
    },
    {
      "cell_type": "code",
      "source": [
        "static osjob_t sendjob;\n",
        "const char* sensor_names[] = { \"outdoor temp\", \"indoor temp\", \"humidity\", \"wind speed\", \"wind direction\", \"uv level\", \"lux level\" }; //define sensors names\n",
        "float windSpeed;                    // variable to store the calculated wind speed\n",
        "const int ldrPin = 34;              // LDR pin connected to analog pin 34\n",
        "const int oneWireBus = 16;          // variable for outdoor temp sensors library \n",
        "const int wind_direction_pin = 35;  // select the analog input pin\n",
        "int UVOUT = 15;                     //Output from the sensor\n",
        "int REF_3V3 = 4;                    //3.3V power on the Arduino board\n",
        "int ldrValue;                       // variable to store the LDR value\n",
        "int sensorPin = 27;                 // define the analog input pin for wind speed\n",
        "int wind_direction;                 //define the analog input pin for wind direction"
      ],
      "metadata": {
        "id": "V5i33EXNy6e0"
      },
      "execution_count": null,
      "outputs": []
    },
    {
      "cell_type": "markdown",
      "source": [
        "Setup a oneWire instance to communicate with any OneWire devices"
      ],
      "metadata": {
        "id": "lS72rvOJzRgY"
      }
    },
    {
      "cell_type": "code",
      "source": [
        "OneWire oneWire(oneWireBus); "
      ],
      "metadata": {
        "id": "xe4d9o_6zXdd"
      },
      "execution_count": null,
      "outputs": []
    },
    {
      "cell_type": "markdown",
      "source": [
        "Pass our oneWire reference to Dallas Temperature sensor"
      ],
      "metadata": {
        "id": "-hd1UXjOzafN"
      }
    },
    {
      "cell_type": "code",
      "source": [
        "DallasTemperature sensors(&oneWire);"
      ],
      "metadata": {
        "id": "GEMVeHnUzc6P"
      },
      "execution_count": null,
      "outputs": []
    },
    {
      "cell_type": "markdown",
      "source": [
        "setup I2C for indoor temp sensor"
      ],
      "metadata": {
        "id": "pgBqTgLpzfWo"
      }
    },
    {
      "cell_type": "code",
      "source": [
        "Adafruit_BMP280 bmp;                 "
      ],
      "metadata": {
        "id": "xQ9gEw42zl7m"
      },
      "execution_count": null,
      "outputs": []
    },
    {
      "cell_type": "markdown",
      "source": [
        "## Schedule TX every this many seconds\n",
        "## (might become longer due to duty\n",
        "## cycle limitations, minor diviation)."
      ],
      "metadata": {
        "id": "4WRd48A-zrLe"
      }
    },
    {
      "cell_type": "markdown",
      "source": [
        " setting transmitting intervals"
      ],
      "metadata": {
        "id": "yAGd34XO0GDq"
      }
    },
    {
      "cell_type": "code",
      "source": [
        "const unsigned TX_INTERVAL = 60;  "
      ],
      "metadata": {
        "id": "ccIucJi90Gkx"
      },
      "execution_count": null,
      "outputs": []
    },
    {
      "cell_type": "markdown",
      "source": [
        "## spi pins set"
      ],
      "metadata": {
        "id": "sDxCN9t40Q4u"
      }
    },
    {
      "cell_type": "code",
      "source": [
        "const lmic_pinmap lmic_pins = {         // spi pins for lora transmitter\n",
        "  .nss = 5,                             // chip select pin\n",
        "  .rxtx = LMIC_UNUSED_PIN,       \n",
        "  .rst = 17,                            // chip reset\n",
        "  .dio = { 2, 14, LMIC_UNUSED_PIN },   // dio0: IRQ , dio1: send confirm \n",
        "};"
      ],
      "metadata": {
        "id": "qljY8biH0ROr"
      },
      "execution_count": null,
      "outputs": []
    },
    {
      "cell_type": "markdown",
      "source": [
        "## functions"
      ],
      "metadata": {
        "id": "M6B0dULh0gqb"
      }
    },
    {
      "cell_type": "markdown",
      "source": [
        "converts data to hex string "
      ],
      "metadata": {
        "id": "Oa9JH0Gw0ofb"
      }
    },
    {
      "cell_type": "code",
      "source": [
        "\n",
        "void printHex2(unsigned v) {           // takes an unsigned integer and\n",
        "  v &= 0xff;                           // extracts the least significant byte\n",
        "  if (v < 16)\n",
        "    Serial.print('0');\n",
        "  Serial.print(v, HEX);                //prints its hexadecimal representation\n",
        "}   "
      ],
      "metadata": {
        "id": "IInwNxzB0gba"
      },
      "execution_count": null,
      "outputs": []
    },
    {
      "cell_type": "markdown",
      "source": [
        "otaa join events"
      ],
      "metadata": {
        "id": "K6r-czHM0u06"
      }
    },
    {
      "cell_type": "code",
      "source": [
        "\n",
        "void onEvent(ev_t ev) {               // handle join evet session \n",
        "  Serial.print(os_getTime());\n",
        "  Serial.print(\": \");\n",
        "  switch (ev) {\n",
        "    case EV_SCAN_TIMEOUT:\n",
        "      Serial.println(F(\"EV_SCAN_TIMEOUT\"));\n",
        "      break;\n",
        "    case EV_JOINING:\n",
        "      Serial.println(F(\"EV_JOINING\"));\n",
        "      break;\n",
        "    case EV_JOINED:\n",
        "      Serial.println(F(\"EV_JOINED\"));\n",
        "      {\n",
        "        u4_t netid = 0;\n",
        "        devaddr_t devaddr = 0;\n",
        "        u1_t nwkKey[16];\n",
        "        u1_t artKey[16];\n",
        "        LMIC_getSessionKeys(&netid, &devaddr, nwkKey, artKey);\n",
        "        Serial.print(\"netid: \");\n",
        "        Serial.println(netid, DEC);\n",
        "        Serial.print(\"devaddr: \");\n",
        "        Serial.println(devaddr, HEX);\n",
        "        Serial.print(\"AppSKey: \");\n",
        "        for (size_t i = 0; i < sizeof(artKey); ++i) {\n",
        "          if (i != 0)\n",
        "            Serial.print(\"-\");\n",
        "          printHex2(artKey[i]);\n",
        "        }\n",
        "        Serial.println(\"\");\n",
        "        Serial.print(\"NwkSKey: \");\n",
        "        for (size_t i = 0; i < sizeof(nwkKey); ++i) {\n",
        "          if (i != 0)\n",
        "            Serial.print(\"-\");\n",
        "          printHex2(nwkKey[i]);\n",
        "        }\n",
        "        Serial.println();\n",
        "      }\n",
        "      break;\n",
        "    case EV_TXSTART:\n",
        "      Serial.println(F(\"EV_TXSTART\"));\n",
        "      break;\n",
        "    case EV_RXSTART:\n",
        "      /* do not print anything -- it wrecks timing */\n",
        "      break;\n",
        "    case EV_JOIN_TXCOMPLETE:\n",
        "      Serial.println(F(\"EV_JOIN_TXCOMPLETE: no JoinAccept\"));\n",
        "      break;\n",
        "      \n",
        "    default:\n",
        "      Serial.print(F(\"Unknown event: \"));\n",
        "      Serial.println((unsigned)ev);\n",
        "      break;\n",
        "  }\n",
        "}\n"
      ],
      "metadata": {
        "id": "AOHQmcVi09YL"
      },
      "execution_count": null,
      "outputs": []
    },
    {
      "cell_type": "markdown",
      "source": [
        "# Sensors Data Gathering"
      ],
      "metadata": {
        "id": "ZWn_NrTu1AAT"
      }
    },
    {
      "cell_type": "code",
      "source": [
        "void do_send(osjob_t* j) {\n",
        "    \n",
        "  // Check if there is not a current TX/RX job running\n",
        "\n",
        "  if (LMIC.opmode & OP_TXRXPEND) {\n",
        "    Serial.println(F(\"OP_TXRXPEND, not sending\"));\n",
        "\n",
        "  } else {\n",
        "    \n",
        "    pinMode(UVOUT, INPUT);\n",
        "    pinMode(REF_3V3, INPUT);\n",
        "    Serial.println(F(\"Starting\"));\n",
        "    sensors.requestTemperatures();\n",
        "\n",
        "    ////////////////////////////////////////////////////\n",
        "\n",
        "\n",
        "    wind_direction = analogRead(wind_direction_pin);  // read the value from the analog pin\n",
        "    delay(100);                                       // wait for 100 milliseconds before reading again\n",
        "\n",
        "    //////////////////////wind speed////////////////////\n",
        "\n",
        "    windSpeed = analogRead(sensorPin);  // read the analog sensor value\n",
        "    delay(150);\n",
        "\n",
        "    /////////////uv and bmp///////////////////////////////\n",
        "\n",
        "    //Use the 3.3V power pin as a reference to get a very accurate output value from sensor\n",
        "    Serial.println((\"ML8511,BMP280 test\"));\n",
        "    unsigned status;\n",
        "    status = bmp.begin(0x76);\n",
        "    /* Default settings from datasheet. */\n",
        "    bmp.setSampling(Adafruit_BMP280::MODE_NORMAL,     /* Operating Mode. */\n",
        "                    Adafruit_BMP280::SAMPLING_X2,     /* Temp. oversampling */\n",
        "                    Adafruit_BMP280::SAMPLING_X16,    /* Pressure oversampling */\n",
        "                    Adafruit_BMP280::FILTER_X16,      /* Filtering. */\n",
        "                    Adafruit_BMP280::STANDBY_MS_500); /* Standby time. */\n",
        "\n",
        "    sensors.begin();\n",
        "\n",
        "    delay(150);\n",
        "\n",
        "    //////////////////////////////////////////////////////\n",
        "\n",
        "    float in_temp = bmp.readTemperature();\n",
        "    float out_temp = sensors.getTempCByIndex(0);\n",
        "    int uvLevel = averageAnalogRead(UVOUT);\n",
        "    int refLevel = averageAnalogRead(REF_3V3);\n",
        "    float outputVoltage = 3.3 / refLevel * uvLevel;\n",
        "    ldrValue = analogRead(ldrPin);\n",
        "\n",
        "\n",
        "    //////////////////DATA RETAIN ///////////////////////////////////\n",
        "    const int num_sensors = sizeof(sensor_names) / sizeof(sensor_names[0]);\n",
        "    const float values[] = { out_temp, in_temp, 60, windSpeed, wind_direction, uvLevel, ldrValue };\n",
        "\n",
        "    int data_len = 0;\n",
        "    for (int i = 0; i < num_sensors; i++) {\n",
        "      int n = snprintf(data + data_len, sizeof(data) - data_len, \"%s=%.2f,\", sensor_names[i], values[i]);\n",
        "      if (n >= 0 && data_len + n < sizeof(data)) {\n",
        "        data_len += n;\n",
        "      } else {\n",
        "        // Error: not enough space in buffer\n",
        "        break;\n",
        "      }\n",
        "    }\n",
        "\n",
        "    // Prepare upstream data transmission at the next possible time.\n",
        "    LMIC_setTxData2(1, (uint8_t*)data, strlen(data), 0);\n",
        "    Serial.print(F(\"Packet queued: \"));\n",
        "    Serial.println(data);\n",
        "  }\n",
        "}\n"
      ],
      "metadata": {
        "id": "uQ4vX4Cm1_TW"
      },
      "execution_count": null,
      "outputs": []
    },
    {
      "cell_type": "markdown",
      "source": [
        "averageAnalogRead"
      ],
      "metadata": {
        "id": "Mwzp31222CXR"
      }
    },
    {
      "cell_type": "code",
      "source": [
        "int (int pinToRead) {\n",
        "  byte numberOfReadings = 8;\n",
        "  unsigned int runningValue = 0;\n",
        "\n",
        "  for (int x = 0; x < numberOfReadings; x++)\n",
        "    runningValue += analogRead(pinToRead);\n",
        "  runningValue /= numberOfReadings;\n",
        "\n",
        "  return (runningValue);\n",
        "}"
      ],
      "metadata": {
        "id": "In9Rxagz2DR4"
      },
      "execution_count": null,
      "outputs": []
    },
    {
      "cell_type": "markdown",
      "source": [
        "## map anemometer reads from adc value to m/s , degrees "
      ],
      "metadata": {
        "id": "6lrQTxRU2HyW"
      }
    },
    {
      "cell_type": "code",
      "source": [
        "float mapfloat(float x, float in_min, float in_max, float out_min, float out_max) {\n",
        "  return (x - in_min) * (out_max - out_min) / (in_max - in_min) + out_min;\n",
        "}\n"
      ],
      "metadata": {
        "id": "A69S39tw2IPq"
      },
      "execution_count": null,
      "outputs": []
    },
    {
      "cell_type": "markdown",
      "source": [
        "setup loop "
      ],
      "metadata": {
        "id": "1R_xeddf2bQ-"
      }
    },
    {
      "cell_type": "code",
      "source": [
        "\n",
        "void setup() {\n",
        "  Serial.begin(9600);\n",
        "  Serial.println(F(\"Starting\"));\n",
        "\n",
        "  // LMIC init\n",
        "  os_init();\n",
        "  // Reset the MAC state. Session and pending data transfers will be discarded.\n",
        "  LMIC_reset();\n",
        "\n",
        "  // Start job (sending automatically starts OTAA too)\n",
        "  do_send(&sendjob);\n",
        "}"
      ],
      "metadata": {
        "id": "dx7-dKT62a0-"
      },
      "execution_count": null,
      "outputs": []
    },
    {
      "cell_type": "markdown",
      "source": [
        "main loop "
      ],
      "metadata": {
        "id": "gaO_c3zu27hR"
      }
    },
    {
      "cell_type": "code",
      "execution_count": null,
      "metadata": {
        "id": "a1C47DWxzM_K"
      },
      "outputs": [],
      "source": [
        "void loop() {\n",
        "  os_runloop_once();\n",
        "}"
      ]
    }
  ]
}